{
 "cells": [
  {
   "cell_type": "markdown",
   "id": "0d5035b5",
   "metadata": {},
   "source": [
    "# Tupla\n",
    "\n",
    "## Aula 8.2"
   ]
  },
  {
   "cell_type": "markdown",
   "id": "0bdece85",
   "metadata": {},
   "source": [
    "### Q1. \n",
    "\n",
    "Escreva uma função ```calcula_area_perimetro``` que recebe **apenas um parâmetro** ```dimensoes``` e calcula a área e o perímetro a partir das dimensões dadas. \n",
    "- ```dimensoes``` é uma tupla (largura, comprimento) com as dimensões de um terreno retangular\n",
    "- Sua função deve calcular e retornar as seguintes operações\n",
    "   - $area = largura \\times comprimento$\n",
    "   - $perimetro = 2\\times(largura + comprimento)$\n"
   ]
  },
  {
   "cell_type": "code",
   "execution_count": null,
   "id": "0a258eba",
   "metadata": {},
   "outputs": [],
   "source": [
    "def calcula_area_perimetro (dimensoes):\n",
    "    largura , comprimento = dimensoes\n",
    "    area = largura * comprimento\n",
    "    perimetro = 2 * (largura + comprimento)\n",
    "    return area , perimetro"
   ]
  },
  {
   "cell_type": "code",
   "execution_count": null,
   "id": "e1866c04",
   "metadata": {},
   "outputs": [],
   "source": [
    "largura = 5\n",
    "comprimento = 7\n",
    "dimensoes = (5 , 7)\n",
    "retorno = calcula_area_perimetro(dimensoes)\n",
    "print(retorno, type(retorno))"
   ]
  },
  {
   "cell_type": "markdown",
   "id": "cbdcb986",
   "metadata": {},
   "source": [
    "### Q2.\n",
    "\n",
    "Dada uma string, imprima todas as vogais que aparecem na string, bem como todos os índices onde elas ocorrem. Para isso, use a função ```enumerate```.\n"
   ]
  },
  {
   "cell_type": "code",
   "execution_count": null,
   "id": "1f6b1f2d",
   "metadata": {},
   "outputs": [],
   "source": [
    "frase = \"O rato roeu a roupa da Alice\"\n",
    "for i , letra in enumerate(frase):\n",
    "    if letra.lower() in \"aeiou\":\n",
    "        print(i , letra) "
   ]
  },
  {
   "cell_type": "markdown",
   "id": "8d46663f",
   "metadata": {},
   "source": [
    "### Q3.\n",
    "\n",
    "Escreva uma função em Python chamada ```ordenar_tuplas``` que recebe uma lista de tuplas, cada uma contendo o nome de um aluno e sua respectiva média, e retorna uma nova lista ordenada em ordem decrescente de médias."
   ]
  },
  {
   "cell_type": "code",
   "execution_count": null,
   "id": "469f2e6e",
   "metadata": {},
   "outputs": [],
   "source": [
    "def ordenar_tuplas (notas):\n",
    "    return sorted(notas, key=lambda x: x[1], reverse=True)\n"
   ]
  },
  {
   "cell_type": "code",
   "execution_count": null,
   "id": "1972c62b",
   "metadata": {},
   "outputs": [],
   "source": [
    "alunos_notas = [('Alice', 8.5), ('Bob', 7.2), ('Charlie', 9.0), ('David', 8.8)]\n",
    "resultado = ordenar_tuplas(alunos_notas)\n",
    "print(resultado)"
   ]
  },
  {
   "cell_type": "markdown",
   "id": "e0268fae",
   "metadata": {},
   "source": [
    "### Q4.\n",
    "\n",
    "Escreva uma função em Python chamada ```comprimir_tuplas``` que recebe uma lista de tuplas, cada uma contendo uma palavra e um número, e retorna uma nova lista de tuplas onde palavras idênticas são agrupadas e seus números são somados.\n",
    "\n"
   ]
  },
  {
   "cell_type": "code",
   "execution_count": null,
   "id": "30a221f3",
   "metadata": {},
   "outputs": [],
   "source": [
    "def comprimir_tuplas(lista_tuplas):\n",
    "    comprimido = {}\n",
    "\n",
    "    for palavra, numero in lista_tuplas:\n",
    "        if palavra in comprimido:\n",
    "            comprimido[palavra] += numero\n",
    "        else:\n",
    "            comprimido[palavra] = numero\n",
    "            \n",
    "    resultado = [(palavra, comprimido[palavra]) for palavra in comprimido]\n",
    "    \n",
    "    return resultado\n"
   ]
  },
  {
   "cell_type": "code",
   "execution_count": null,
   "id": "80972bac",
   "metadata": {},
   "outputs": [],
   "source": [
    "tuplas_originais = [('maçã', 3), ('banana', 2), ('maçã', 5), ('laranja', 1), ('banana', 3)]\n",
    "resultado = comprimir_tuplas(tuplas_originais)\n",
    "print(resultado)"
   ]
  },
  {
   "cell_type": "markdown",
   "id": "649a5082",
   "metadata": {},
   "source": [
    "### Q5. \n",
    "\n",
    "- Escreva um script que peça o nome e a idade de todos na fila de uma balada. Crie uma lista de tuplas com os pares ```(nome, idade)``` de cada um. \n",
    "- Em seguida crie e imprima duas tuplas apenas com os nomes, uma com os menores de idade que não poderão entrar, e uma com os maiores de idade (```idade >= 18```). \n",
    "\n"
   ]
  },
  {
   "cell_type": "code",
   "execution_count": null,
   "id": "47cb0573",
   "metadata": {},
   "outputs": [],
   "source": [
    "fila_balada = []\n",
    "\n",
    "while True:\n",
    "    nome = input(\"Digite o nome da pessoa na fila (ou 'fim' para encerrar): \")\n",
    "    if nome.lower() == 'fim':\n",
    "        break\n",
    "    idade = int(input(\"Digite a idade de {} na fila: \".format(nome)))\n",
    "    fila_balada.append((nome, idade))\n",
    "\n",
    "menores_idade = []\n",
    "maiores_idade = []\n",
    "\n",
    "for nome, idade in fila_balada:\n",
    "    if idade < 18:\n",
    "        menores_idade.append(nome)\n",
    "    else:\n",
    "        maiores_idade.append(nome)\n",
    "\n",
    "print(\"Lista de menores de idade que não poderão entrar:\")\n",
    "print(menores_idade)\n",
    "\n",
    "print(\"Lista de maiores de idade que podem entrar:\")\n",
    "print(maiores_idade)\n"
   ]
  }
 ],
 "metadata": {
  "kernelspec": {
   "display_name": "Python 3 (ipykernel)",
   "language": "python",
   "name": "python3"
  },
  "language_info": {
   "codemirror_mode": {
    "name": "ipython",
    "version": 3
   },
   "file_extension": ".py",
   "mimetype": "text/x-python",
   "name": "python",
   "nbconvert_exporter": "python",
   "pygments_lexer": "ipython3",
   "version": "3.9.6"
  }
 },
 "nbformat": 4,
 "nbformat_minor": 5
}
